{
  "nbformat": 4,
  "nbformat_minor": 0,
  "metadata": {
    "colab": {
      "name": "Untitled1.ipynb",
      "provenance": [],
      "authorship_tag": "ABX9TyO8GG1+FSHYKzzaxjVZva/r",
      "include_colab_link": true
    },
    "kernelspec": {
      "name": "python3",
      "display_name": "Python 3"
    }
  },
  "cells": [
    {
      "cell_type": "markdown",
      "metadata": {
        "id": "view-in-github",
        "colab_type": "text"
      },
      "source": [
        "<a href=\"https://colab.research.google.com/github/helloworldjay/AI_Precourse/blob/master/Week3_%EA%B0%9C%EB%85%90%20%EC%A0%95%EB%A6%AC.ipynb\" target=\"_parent\"><img src=\"https://colab.research.google.com/assets/colab-badge.svg\" alt=\"Open In Colab\"/></a>"
      ]
    },
    {
      "cell_type": "markdown",
      "metadata": {
        "id": "hXTwYM8Bwrnw",
        "colab_type": "text"
      },
      "source": [
        "#파이썬 심화"
      ]
    },
    {
      "cell_type": "markdown",
      "metadata": {
        "id": "pZmsk9unSid0",
        "colab_type": "text"
      },
      "source": [
        "## JSON(Javascript Object Notation)\n",
        "데이터를 효율적으로 저장하고 교환하는데 사용(텍스트 데이터 형식중 하나) \n",
        "\n",
        "- 사람이 읽고 쓰기에 쉽다.\n",
        "- 컴퓨터가 파싱하고 생성하기 쉽다.\n",
        "\n",
        "파이썬에서 JSON으로 변환되며 list, tuple -> array\n",
        "JSON에서 파이썬으로 변환되며 array -> list, tuple로 변환된다."
      ]
    },
    {
      "cell_type": "markdown",
      "metadata": {
        "id": "cPXtw-GWwvWF",
        "colab_type": "text"
      },
      "source": [
        "0. dictionary 자료형은 키(Key)와 값(value)로 이루어져있다.\n",
        " \n",
        "- O\n",
        " \n",
        "X\n",
        "\n",
        "1. API 제공자는 너무 과도한 사용이나 무분별한 사용을 막고 관리하기 위해 사용자에게 이것을 제공한다. (한글로 적어주세요.)\n",
        "-키\n",
        "\n",
        "2. 공공기관이 만들어 내는 모든 자료나 정보, 그리고 국민 모두의 소통과 협력을 이끌어 내는 공적인 정보(데이터)란 무엇인가? (띄어쓰기 없이 입력해주세요)\n",
        "-공공데이터"
      ]
    },
    {
      "cell_type": "markdown",
      "metadata": {
        "id": "HJxftSj1Twsr",
        "colab_type": "text"
      },
      "source": [
        "# 머신러닝을 위한 기초 수학"
      ]
    },
    {
      "cell_type": "markdown",
      "metadata": {
        "id": "T_HQCTsh4Zf_",
        "colab_type": "text"
      },
      "source": [
        "목적함수 - E(theta) = 오차의 정도를 나타내므로 이것이 최소가 되는 예측을 하는 것이 목표가 된다.(최적화문제)"
      ]
    },
    {
      "cell_type": "markdown",
      "metadata": {
        "id": "VTbuoz9CSVr3",
        "colab_type": "text"
      },
      "source": [
        "## 분류 문제\n",
        "\n",
        "퍼셉트론(Perceptron)\n",
        "\n",
        "- 여러개의 입력을 받아 각각의 값에 가중치를 곱해 모두 더하는 함수\n",
        "\n",
        "- 선형 분리 불가능 문제(하나의 선으로 구분하지 못하는 문제)의 데이터셋에는 수렴하지 못한다는 단점이 있다.\n",
        "\n",
        "로지스틱 회귀\n",
        "\n",
        "- 분류를 확률로 생각하는 방식\n",
        "\n",
        "- 수치가 아닌 어느 클래스에 분류 되는지 구하는 것\n",
        "\n",
        "- 로지스틱 시그모이드 함수\n",
        "  f(x) = 1/(1+e^(-z))\n",
        "  when z = w^T * x(w:가중치 벡터, x:입력 데이터 변수, T: 전치 행렬)\n",
        "\n"
      ]
    },
    {
      "cell_type": "code",
      "metadata": {
        "id": "vjPbPmQ0Wzeu",
        "colab_type": "code",
        "colab": {}
      },
      "source": [
        "import matplotlib.pyplot as plt\n",
        "import numpy as np\n",
        "def sigmoid(z):\n",
        "  return 1.0/(1.0 + np.exp(-z))\n",
        "# 시각화 코드\n",
        "z = np.arange(-7,7,0.1) # 범위를 -7에서 7까지, 간격은 촘촘하게\n",
        "f_x = sigmoid(z)"
      ],
      "execution_count": 0,
      "outputs": []
    },
    {
      "cell_type": "markdown",
      "metadata": {
        "id": "nsCW5-aVZKXn",
        "colab_type": "text"
      },
      "source": [
        "미지의 데이터 x가 주어질 때, 가로로 긴 사각형일 경우 1, 세로로 긴 사각형일 경우 0\n",
        "\n",
        "P(y=1|x) = f(x) -> 미지의 데이터 x가 주어졌을 때 그 데이터가 가로로 길 확률 f(x)\n",
        "\n",
        "만약 f(x)가 0.7이라면, 이 사각형이 가로로 길 확률은 70%이다."
      ]
    },
    {
      "cell_type": "markdown",
      "metadata": {
        "id": "Z1VEFEq2aSsT",
        "colab_type": "text"
      },
      "source": [
        "서포트 벡터 머신(SVM)\n",
        ": 마진을 최대화\n",
        "\n",
        "레이블을 구분하기 위한 초평면(결정경계)를 그리고 그 다음 초평면은 마진이라는 것을 구하는데, 마진은 초평면과 가장 가까운 훈련데이터와의 거리이고, 이러한 데이터들을 서포트 벡터라고 한다.\n",
        "\n",
        "선형 분리 불가능 문제에서도 강력한 힘을 발휘한다."
      ]
    },
    {
      "cell_type": "markdown",
      "metadata": {
        "id": "tl0NMYmI3LWp",
        "colab_type": "text"
      },
      "source": [
        "0. 표준편차가 7인 데이터의 분산을 구하시오.\n",
        "- 49\n",
        "\n",
        "1. 함수 기울기를 낮은 쪽으로 계속 이동시켜서 극값에 이를 때까지 반복시키는 것으로 학습을 통해 모델의 최적 파라미터를 찾는 것이 목표인 이 방법은 무엇인가? (5글자)\n",
        "- 경사 하강법"
      ]
    },
    {
      "cell_type": "markdown",
      "metadata": {
        "id": "qpQ3ck9Y8FZp",
        "colab_type": "text"
      },
      "source": [
        "0. h(x, y) = y³ - y² + 3y + x 를 x로 편미분해라.\n",
        "\n",
        "\n",
        "1. h(x, y) = 3x²y + y² - 70y - 2 를 x로 편미분해라.\n",
        "\n",
        "\n",
        "2. 머신러닝에서 학습 데이터를 과하게 학습하여 학습 데이터에서는 정확도가 높지만 실제 데이터에서는 오차가 발생하는 것을 뜻하는 용어는 무엇인가. (3글자)\n",
        "- 과적합\n"
      ]
    },
    {
      "cell_type": "markdown",
      "metadata": {
        "id": "11Jw5AaPT8OJ",
        "colab_type": "text"
      },
      "source": [
        "# 머신러닝 - 분류문제"
      ]
    },
    {
      "cell_type": "markdown",
      "metadata": {
        "id": "JxvtvGPPGiqv",
        "colab_type": "text"
      },
      "source": [
        "로지스틱 회귀\n",
        "서포트 벡터 머신(SVM) - 목적 : 마진을 최대화 (커널기법) 2차원 -> 3차원 -> 2차원"
      ]
    },
    {
      "cell_type": "markdown",
      "metadata": {
        "id": "oApXg5s6Syqi",
        "colab_type": "text"
      },
      "source": [
        "## 머신러닝 알고리즘 훈련을 위한 단계\n",
        "\n",
        "1. 변수를 선택하고 훈련데이터를 수집\n",
        "2. 모델의 성능 지표를 선택\n",
        "3. 분류 모델과 최적화 알고리즘을 선택\n",
        "4. 모델의 성능 평가\n",
        "5. 모델 튜닝"
      ]
    },
    {
      "cell_type": "markdown",
      "metadata": {
        "id": "IAldcjOkc99q",
        "colab_type": "text"
      },
      "source": [
        "목적 함수의 목적 -> 정보 이득(IG) 최대화\n",
        "\n",
        "1. 지니 불순도\n",
        "2. 엔트로피\n",
        "3. 분류오차"
      ]
    },
    {
      "cell_type": "markdown",
      "metadata": {
        "id": "nddZWl_HD9yU",
        "colab_type": "text"
      },
      "source": [
        "0. 머신러닝을 통해 문제를 해결 할 때 보통 여러 알고리즘을 비교하여 사용하기 보다는 사용자가 잘 활용 할 수 있는 하나의 알고리즘만을 사용하여 문제를 해결 하는게 일반적이다.\n",
        " \n",
        "O\n",
        " \n",
        "- X\n",
        "\n",
        "1. 로지스틱 시그모이드 함수를 활용하여 데이터를 분류하는 알고리즘은 무엇인가? (6글자 - 띄어쓰기 없이 입력해주세요)\n",
        "- 로지스틱 회귀\n",
        "2. 서포트 백터 머신(SVM)은 정확도가 높고 계산 비용이 적다는 장점 때문에 많은 연구에서 사용되고 있다.\n",
        " \n",
        "O\n",
        " \n",
        "- X"
      ]
    },
    {
      "cell_type": "markdown",
      "metadata": {
        "id": "moUl7Rxlki95",
        "colab_type": "text"
      },
      "source": [
        "0. 결정 학습트리에서 노드를 ____이 최대가 되는 특성으로 데이터를 나누게 된다.\n",
        "- 정보이득\n",
        "\n",
        "1. 결정 트리 학습(Decision tree)에서 너무 많은 분기로 인해 과적합 되는 걸 막기 위해 분기를 재조정하는 방법을 무엇이라 하는가? \n",
        "- 트리 가지치기(Pruning)\n",
        "\n",
        "2. KNN 알고리즘에 대한 사실로 올바르지 않은 것은?\n",
        " \n",
        "최적의 K를 선택하기 어렵다.\n",
        " \n",
        "고차원의 데이터나 데이터 수가 많아질수록 계산 비용이 높아진다.\n",
        " \n",
        "- 충분한 알고리즘 학습 후 사용 가능하다.\n",
        " \n",
        "학습 유형은 지도학습에 해당한다.\n",
        "\n",
        "3. 고정된 크기의 훈련 데이터셋 차원이 늘어남에 따라 특성 공간이 점점 희소해 지는 현상을 무엇이라 하는가? \n",
        "- 차원의 저주"
      ]
    },
    {
      "cell_type": "markdown",
      "metadata": {
        "id": "yo4Jrgb9qO--",
        "colab_type": "text"
      },
      "source": [
        "# 머신러닝 군집문제"
      ]
    },
    {
      "cell_type": "markdown",
      "metadata": {
        "id": "c2fBgVQTqYRK",
        "colab_type": "text"
      },
      "source": [
        "군집분석 - 비지도 학습\n",
        "\n",
        "학습해줄 클래스 레이블이 없는 상태에서 진행\n",
        "\n",
        "군집 \n",
        "-> 정답을 모르는 데이터 안에서 숨겨진 구조를 찾는 것"
      ]
    },
    {
      "cell_type": "markdown",
      "metadata": {
        "id": "DONZhRJpqxup",
        "colab_type": "text"
      },
      "source": [
        "K-평균\n",
        "\n",
        "- 매우 쉬운 구현성\n",
        "- 높은 계산 효율성\n",
        "- 하나의 프로토타입으로 표현\n",
        "- 원형 클러스터를 구현하는데에는 유용\n",
        "- 클러스터 내의 제곱 오차합을 반복적으로 최소화한다.\n"
      ]
    },
    {
      "cell_type": "markdown",
      "metadata": {
        "id": "soVVxMxqtPQu",
        "colab_type": "text"
      },
      "source": [
        "엘보우 방법"
      ]
    },
    {
      "cell_type": "markdown",
      "metadata": {
        "id": "hzuUsa4Pud6_",
        "colab_type": "text"
      },
      "source": [
        "군집 평가 방법\n",
        "\n",
        "- 실루엣 그래프\n",
        "클러스터 내 데이터들이 얼마나 조밀하게 모여있는지를 측정하는 그래프 도구"
      ]
    },
    {
      "cell_type": "markdown",
      "metadata": {
        "id": "vnuvsUfCsd44",
        "colab_type": "text"
      },
      "source": [
        "0. 다음 중 지도학습이 아닌 것은 무엇인가?\n",
        " \n",
        "선형 회귀\n",
        " \n",
        "- 군집 분석\n",
        " \n",
        "로지스틱 회귀\n",
        " \n",
        "KNN\n",
        "\n",
        "- 군집 분석\n",
        "\n",
        "1. 지도학습과 비지도학습의 차이점은 클래스 레이블(정답)이 없다는 것이 차이점이다\n",
        " \n",
        "O\n",
        " \n",
        "X\n",
        "\n",
        "- O\n",
        "\n",
        "2. K-means에서 최적인 클러스터 개수 K를 추정하는 방법으로 왜곡값(SSE)이 급하게 변화하는 부분(point)을 찾는 이 방법(Method)의 이름은? (5글자 - 영어 소문자로 답하시오)\n",
        "\n",
        "- elbow\n",
        "\n",
        "3. 군집분석에 대한 사실로 올바르지 않은 것은?\n",
        " \n",
        "클래스 레이블이 없는 데이터를 특정 군집으로 묶고자 할 때 활용한다.\n",
        " \n",
        "K-MEANS 알고리즘은 학계와 산업현장에서 가리지 않고 널리 사용 되고 있다.\n",
        " \n",
        "K-MEANS++는 K-MEANS의 무작위 성을 보완하기 위해 나온 기법이다.\n",
        " \n",
        "- K-MEANS는 하나의 데이터가 여러 클러스터에 중첩 될 수 있다.\n",
        "\n",
        "- 4번"
      ]
    },
    {
      "cell_type": "markdown",
      "metadata": {
        "id": "CrbiNyTwv3U4",
        "colab_type": "text"
      },
      "source": [
        "계층 군집\n",
        "\n",
        "- 덴드로그램을 그릴 수 있다.\n",
        "- 클러스터의 개수를 미리 정하지 않아도 된다.\n",
        "\n",
        "계층 군집을 형성하는 방법\n",
        "\n",
        "1. 병합 계층 군집\n",
        " - 전체 데이터를 포함하는 하나의 클러스터에서 시작해 클러스터 속의 데이터가 하나가 남을 때까지 반복적으로 클러스터를 나눈다.\n",
        "\n",
        "- 단일 연결 \n",
        "- 완전 연결\n",
        "\n",
        "- 평균 연결\n",
        "- 와드 연결\n",
        "\n",
        "\n",
        "2. 분할 계층 군집\n",
        "- 클러스터당 하나의 데이터에서 시작하여 모든 데이터가 하나의 클러스터에 속할 때까지 가장 가까운 클러스터를 병합해 나간다."
      ]
    },
    {
      "cell_type": "markdown",
      "metadata": {
        "id": "twOm17uHbWPB",
        "colab_type": "text"
      },
      "source": [
        "밀집도 기반 알고리즘 단점\n",
        "- 차원의 저주로 인한 역효과 상승"
      ]
    },
    {
      "cell_type": "markdown",
      "metadata": {
        "id": "Si4YX8Ebvl9G",
        "colab_type": "text"
      },
      "source": [
        "0. 계층 군집을 형성하는 방법에는 병합 계층 군집과 _ _ 계층 군집으로 나누어 진다.\n",
        "\n",
        "- 분할\n",
        "\n",
        "1. 병합 계층 군집을 이루는 알고리즘 중 클러스터 쌍에서 가장 가까운 데이터 간의 거리를 계산하여 거리의 값이 가장 작은 두 클러스터를 하나로 합치는 연결 방식(알고리즘)은 무엇인가요?\n",
        " \n",
        "-단일 연결\n",
        " \n",
        "완전 연결\n",
        " \n",
        "평균 연결\n",
        " \n",
        "와드 연결\n",
        "\n",
        "- 1번\n",
        "\n",
        "2. 밀집도 기반 군집은 원형 클러스터를 가정하지 않는다.\n",
        " \n",
        "O\n",
        " \n",
        "X\n",
        "\n",
        "- O"
      ]
    }
  ]
}