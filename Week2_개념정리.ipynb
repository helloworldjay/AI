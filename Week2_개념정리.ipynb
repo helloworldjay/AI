{
  "nbformat": 4,
  "nbformat_minor": 0,
  "metadata": {
    "colab": {
      "name": "Untitled4.ipynb",
      "provenance": [],
      "authorship_tag": "ABX9TyPw3ZD/7/bpsOus7wEjL7iS",
      "include_colab_link": true
    },
    "kernelspec": {
      "name": "python3",
      "display_name": "Python 3"
    }
  },
  "cells": [
    {
      "cell_type": "markdown",
      "metadata": {
        "id": "view-in-github",
        "colab_type": "text"
      },
      "source": [
        "<a href=\"https://colab.research.google.com/github/helloworldjay/AI_Precourse/blob/master/Week2_%EA%B0%9C%EB%85%90%EC%A0%95%EB%A6%AC.ipynb\" target=\"_parent\"><img src=\"https://colab.research.google.com/assets/colab-badge.svg\" alt=\"Open In Colab\"/></a>"
      ]
    },
    {
      "cell_type": "markdown",
      "metadata": {
        "id": "_RcC8S2Lz6go",
        "colab_type": "text"
      },
      "source": [
        "0. 머신러닝에서 파이썬을 쓰는 이유는 다양한 통계와 시각화 라이브러리 때문이다.\n",
        " \n",
        "- O\n",
        " \n",
        "X\n"
      ]
    },
    {
      "cell_type": "markdown",
      "metadata": {
        "id": "LSndeKqU0CrF",
        "colab_type": "text"
      },
      "source": [
        "0. 튜플과 리스트의 차이점으로 알맞지 않은 것을 고르세요.\n",
        " \n",
        "튜플은 소괄호를 사용하고 리스트는 대괄호를 사용한다.\n",
        " \n",
        "리스트는 수정이 가능하지만 튜플은 추가, 변경, 삭제가 불가능하다.\n",
        " \n",
        "- 튜플의 처리 속도는 리스트보다 느리다.\n",
        "\n",
        "1. a = [5, 36, 57, 2, 4666] 인 리스트가 있을 때 57을 출력하기 위해서 다음과 같이 코드를 적었을 때 빈 칸에 들어갈 숫자를 입력하세요. a[ ]\n",
        "- 2\n",
        "2. for문의 조건에 enumerate([1, 5, 45, 74, 26, 445, 2266])이 있을때 for문은 몇 번 실행이 될까요? (숫자만 적어주세요)\n",
        "- 7"
      ]
    },
    {
      "cell_type": "markdown",
      "metadata": {
        "id": "qkEe_59S0kyk",
        "colab_type": "text"
      },
      "source": [
        "0. 함수를 만들기 위한 파이썬 예약어를 적어주세요.\n",
        "- def\n",
        "1. 클래스에서 자기 자신을 의미하는 전달값은 무엇인가요?\n",
        "- self\n",
        "2. 강의 속 email 클래스 안에서 sender 변수에 접근하기 위해서 괄호안에 들어갈 기호는 무엇인가요? ex) self( )sender\n",
        "- ."
      ]
    }
  ]
}