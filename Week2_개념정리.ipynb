{
  "nbformat": 4,
  "nbformat_minor": 0,
  "metadata": {
    "colab": {
      "name": "Untitled4.ipynb",
      "provenance": [],
      "authorship_tag": "ABX9TyPS1XJ0oUO8XPZTeqSrYQXe",
      "include_colab_link": true
    },
    "kernelspec": {
      "name": "python3",
      "display_name": "Python 3"
    }
  },
  "cells": [
    {
      "cell_type": "markdown",
      "metadata": {
        "id": "view-in-github",
        "colab_type": "text"
      },
      "source": [
        "<a href=\"https://colab.research.google.com/github/helloworldjay/AI_Precourse/blob/master/Week2_%EA%B0%9C%EB%85%90%EC%A0%95%EB%A6%AC.ipynb\" target=\"_parent\"><img src=\"https://colab.research.google.com/assets/colab-badge.svg\" alt=\"Open In Colab\"/></a>"
      ]
    },
    {
      "cell_type": "markdown",
      "metadata": {
        "id": "_RcC8S2Lz6go",
        "colab_type": "text"
      },
      "source": [
        "0. 머신러닝에서 파이썬을 쓰는 이유는 다양한 통계와 시각화 라이브러리 때문이다.\n",
        " \n",
        "- O\n",
        " \n",
        "X\n"
      ]
    },
    {
      "cell_type": "markdown",
      "metadata": {
        "id": "LSndeKqU0CrF",
        "colab_type": "text"
      },
      "source": [
        "0. 튜플과 리스트의 차이점으로 알맞지 않은 것을 고르세요.\n",
        " \n",
        "튜플은 소괄호를 사용하고 리스트는 대괄호를 사용한다.\n",
        " \n",
        "리스트는 수정이 가능하지만 튜플은 추가, 변경, 삭제가 불가능하다.\n",
        " \n",
        "- 튜플의 처리 속도는 리스트보다 느리다.\n",
        "\n",
        "1. a = [5, 36, 57, 2, 4666] 인 리스트가 있을 때 57을 출력하기 위해서 다음과 같이 코드를 적었을 때 빈 칸에 들어갈 숫자를 입력하세요. a[ ]\n",
        "- 2\n",
        "2. for문의 조건에 enumerate([1, 5, 45, 74, 26, 445, 2266])이 있을때 for문은 몇 번 실행이 될까요? (숫자만 적어주세요)\n",
        "- 7"
      ]
    },
    {
      "cell_type": "markdown",
      "metadata": {
        "id": "qkEe_59S0kyk",
        "colab_type": "text"
      },
      "source": [
        "0. 함수를 만들기 위한 파이썬 예약어를 적어주세요.\n",
        "- def\n",
        "1. 클래스에서 자기 자신을 의미하는 전달값은 무엇인가요?\n",
        "- self\n",
        "2. 강의 속 email 클래스 안에서 sender 변수에 접근하기 위해서 괄호안에 들어갈 기호는 무엇인가요? ex) self( )sender\n",
        "- ."
      ]
    },
    {
      "cell_type": "markdown",
      "metadata": {
        "id": "hUT9wnzQ3rzr",
        "colab_type": "text"
      },
      "source": [
        "지도학습 - 레이블된 모델 데이터를 활용하여 모델을 학습시켜, 본적 없는 가까운 미래 데이터에 대해 예측값을 출력하는 것\n",
        "\n",
        "분류 - 개별 클래스 레이블이 있는 지도 학습\n",
        "       과거의 관측을 기반으로 새로운 샘플의 범주형 클래스 레이블을 예측\n",
        "       이산적 / 순서가 없음\n",
        "\n",
        "회귀 - 연속적인 값을 예측\n",
        "      \n",
        "결정 경계(decision boundery)"
      ]
    },
    {
      "cell_type": "markdown",
      "metadata": {
        "id": "Y6Un1OoQ3ETI",
        "colab_type": "text"
      },
      "source": [
        "0. 머신러닝의 학습 유형은 지도학습, 비지도학습, _ _ _ _ 이 있다.\n",
        "- 강화학습\n",
        "\n",
        "1. 손글씨 인식 알고리즘 학습으로 적합한 학습 방법은?\n",
        " \n",
        "- 지도학습\n",
        " \n",
        "비지도학습\n",
        " \n",
        "강화학습\n",
        "\n",
        "2. 연속적인 값을 예측하기에 적합한 모델은 분류모델이다?\n",
        " \n",
        "O\n",
        " \n",
        "- X"
      ]
    },
    {
      "cell_type": "markdown",
      "metadata": {
        "id": "RtQqj-3P9q7H",
        "colab_type": "text"
      },
      "source": [
        "통계 모델링\n",
        "- 데이터에 통계학을 적용하여 변수의 유의성을 분석함으로써 데이터에 숨겨진 의미를 찾는 것\n",
        "\n",
        "변량 : 수치, 변수\n",
        "산포 : 데이터의 변량으로 데이터가 얼마나 중심으로 모이지 않고 흩어저 있나\n",
        "분산 : 평군과의 거리를 제곱한 값의 평균\n",
        "\n",
        "사분위 수 : 데이터를 4등분한 지점\n",
        "-> 데이터의 이상치 탐색과 데이터의 중심위치 및 분포를 빠르게 파악할 수 있다\n",
        "-> 작은수부터 오름차순으로 정리해 1/4 지점부터 1사분위가 된다.\n",
        "a.quantile(0.25)\n",
        "IQR -> 사분범위 Q3-Q1"
      ]
    },
    {
      "cell_type": "code",
      "metadata": {
        "id": "94J8lHnf-Z45",
        "colab_type": "code",
        "colab": {}
      },
      "source": [
        "import numpy as np\n",
        "from scipy import stats\n",
        "np.random.seed(0)\n",
        "data_A = np.random.randint(0,100,10000)\n",
        "mean = np.mean(data_A)\n",
        "median = np.median(data_A)\n",
        "mode = stats.mode(data_A)\n",
        "# 최빈값은 어떤 값을 몇개를 가지고 있나를 출력하기 위해 mode[0][0], mode[1][0] 으로 꺼내야 한다.\n",
        "\n"
      ],
      "execution_count": 0,
      "outputs": []
    },
    {
      "cell_type": "markdown",
      "metadata": {
        "id": "awyILpvH8_8g",
        "colab_type": "text"
      },
      "source": [
        "0. ‘평균과의 거리를 제곱한 값의 평균’을 나타내는 것은 보기 중 무엇인가?\n",
        " \n",
        "산포\n",
        " \n",
        "분산\n",
        " \n",
        "표준평균\n",
        "\n",
        "1. 최빈값, 중앙값, 평균이 같은 선상에 위치한 확률분포는 무엇인가?\n",
        "\n",
        "2. 분산이 25인 데이터의 표준편차를 구하시오."
      ]
    }
  ]
}