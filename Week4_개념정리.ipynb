{
  "nbformat": 4,
  "nbformat_minor": 0,
  "metadata": {
    "colab": {
      "name": "Untitled2.ipynb",
      "provenance": [],
      "authorship_tag": "ABX9TyMbASrwydh+JnWze1UeO17p",
      "include_colab_link": true
    },
    "kernelspec": {
      "name": "python3",
      "display_name": "Python 3"
    }
  },
  "cells": [
    {
      "cell_type": "markdown",
      "metadata": {
        "id": "view-in-github",
        "colab_type": "text"
      },
      "source": [
        "<a href=\"https://colab.research.google.com/github/helloworldjay/AI_Precourse/blob/master/Week4_%EA%B0%9C%EB%85%90%EC%A0%95%EB%A6%AC.ipynb\" target=\"_parent\"><img src=\"https://colab.research.google.com/assets/colab-badge.svg\" alt=\"Open In Colab\"/></a>"
      ]
    },
    {
      "cell_type": "markdown",
      "metadata": {
        "id": "qQoZSRHQ8tAF",
        "colab_type": "text"
      },
      "source": [
        "## 딥러닝의 개념\n",
        "\n",
        "인경의 신경망 이론을 이용한 인공 신경망의 일종으로 입력층과 출력층 사이에 은닉층을 가지고 있는 심층 신경망\n"
      ]
    },
    {
      "cell_type": "markdown",
      "metadata": {
        "id": "VIjIRx_k8ZVw",
        "colab_type": "text"
      },
      "source": [
        "0. 딥러닝은 인간의 신경망 이론을 이용하여 계층 구조로 구성된 세 개의 층을 가지고 있는 _ _ _ _ _이다. (띄어쓰기를 하지 말고 적어주세요.)\n",
        "\n",
        "- 심층신경망\n",
        "\n",
        "1. 음성과 글자의 경우 길이가 가변적이고 말의 문맥을 파악해야 한다는 점에서 CNN 보다는 순환신경망이 더 적합하다.\n",
        " \n",
        "O\n",
        " \n",
        "X\n",
        "\n",
        "- O"
      ]
    },
    {
      "cell_type": "markdown",
      "metadata": {
        "id": "8bMdaWsiBNIU",
        "colab_type": "text"
      },
      "source": [
        "0. 1957년, 프랭크 로젠블랫은 맥컬록-피츠 모델(MCP)을 기반으로 _ _ _ _ _ _ _ _ _ _ 개념을 발표했다. (영문 소문자로 적어주세요.)\n",
        "- perceptron\n",
        "\n",
        "1. 경사하강법에서 가중치 조정을 위한 하이퍼파라미터로써 어떻게 설정하느냐에 따라 학습 시간이 달라지는 이것은 무엇인가? _ _ _\n",
        "- 학습률\n",
        "\n",
        "\n",
        "2. 단층 퍼셉트론으로 AND, OR, XOR 문제를 모두 해결 할 수 있다.\n",
        " \n",
        "O\n",
        " \n",
        "- X"
      ]
    },
    {
      "cell_type": "markdown",
      "metadata": {
        "id": "iJNrzJAewcrt",
        "colab_type": "text"
      },
      "source": [
        "0.출력값과 지도 데이터 사이에 생기는 '오차'를 이용해 출력층에서 입력층 쪽으로 가중치를 조정하는 방법은 무엇인가?\n",
        " \n",
        "순전파\n",
        " \n",
        "- 역전파\n",
        " \n",
        "로지스틱회귀\n",
        " \n",
        "회귀 분석\n",
        "\n",
        "1.경사하강법에서 기울기가 0이면 반드시 그 지점은 최솟값이 된다.\n",
        " \n",
        "O\n",
        " \n",
        "- X\n",
        "\n",
        "2.역전파 기법은 기울기 소멸 문제로 신경망이 깊어지면 깊어질수록 오차의 기울기가 점차 작아지며 기울기가 소실되는 문제가 발생하지만 _ _ _ _ 활성화 함수를 활용하여 어느정도 해결 할 수 있었다. (영문 대소문자 구분하여 작성하세요)\n",
        "- ReLU"
      ]
    },
    {
      "cell_type": "markdown",
      "metadata": {
        "id": "2inhtgMJ1IF9",
        "colab_type": "text"
      },
      "source": [
        "0. 강화학습은 에이전트가 보상이라는 기준에 따라 환경과 상호작용하며 보상을 최대로 얻어내는 과정을 따른다.\n",
        " \n",
        "- O\n",
        " \n",
        "X\n",
        "\n",
        "1. MDP의 구성요소와 그 역할과 알맞게 짝지어지지 않은 것은 몇 번인가요?\n",
        " \n",
        "보상함수 : 에이전트가 특정 상태에서 특정 행동을 했을 때 주어지는 보상의 기댓값을 정의하는 함수\n",
        " \n",
        "- 환경 : 의사결정을 하는 주체\n",
        " \n",
        "상태 : 에이전트가 의사 결정을 하기 위한 관측값, 보상 등을 가공한 것\n",
        " \n",
        "행동 : 에이전트가 의사결정을 통해 취할 수 있는 것\n",
        " \n",
        "관측 : 환경에서 제공해 주는 정보로 시각적, 수치적 관측으로 나누어진다.\n",
        "\n",
        "2. _ _ _ 은 초기상태에서 에이전트가 미래에 받을 보상을 현재 가치로 환산하여 효율적인 판단을 할 수 있도록 하는 값으로 0과 1사이의 값으로 구성된다.\n",
        "\n",
        "- 감가율"
      ]
    },
    {
      "cell_type": "markdown",
      "metadata": {
        "id": "Qb3iC8cA3PQO",
        "colab_type": "text"
      },
      "source": [
        "0. 에이전트가 다양한 경험을 할 수 있도록 에이전트의 행동을 결정하는 기법은 무엇인가요?\n",
        "- 탐험\n",
        "\n",
        "1. 학습된 결과에 따라 에이전트의 행동을 결정하는 기법은 무엇인가요?\n",
        "- 활용\n",
        "2. 하나의 행동을 선택할 때, 활용과 탐험을 동시에 할 수 없기 때문에 이것은 종종 _ _으로 불리게 된다.\n",
        "- 갈등"
      ]
    }
  ]
}