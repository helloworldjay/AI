{
  "nbformat": 4,
  "nbformat_minor": 0,
  "metadata": {
    "colab": {
      "name": "Untitled2.ipynb",
      "provenance": [],
      "authorship_tag": "ABX9TyOpRdtl7YljJYG76ZGk1hHj",
      "include_colab_link": true
    },
    "kernelspec": {
      "name": "python3",
      "display_name": "Python 3"
    }
  },
  "cells": [
    {
      "cell_type": "markdown",
      "metadata": {
        "id": "view-in-github",
        "colab_type": "text"
      },
      "source": [
        "<a href=\"https://colab.research.google.com/github/helloworldjay/AI_Precourse/blob/master/Week4_%EA%B0%9C%EB%85%90%EC%A0%95%EB%A6%AC.ipynb\" target=\"_parent\"><img src=\"https://colab.research.google.com/assets/colab-badge.svg\" alt=\"Open In Colab\"/></a>"
      ]
    },
    {
      "cell_type": "markdown",
      "metadata": {
        "id": "qQoZSRHQ8tAF",
        "colab_type": "text"
      },
      "source": [
        "## 딥러닝의 개념\n",
        "\n",
        "인경의 신경망 이론을 이용한 인공 신경망의 일종으로 입력층과 출력층 사이에 은닉층을 가지고 있는 심층 신경망\n"
      ]
    },
    {
      "cell_type": "markdown",
      "metadata": {
        "id": "VIjIRx_k8ZVw",
        "colab_type": "text"
      },
      "source": [
        "0. 딥러닝은 인간의 신경망 이론을 이용하여 계층 구조로 구성된 세 개의 층을 가지고 있는 _ _ _ _ _이다. (띄어쓰기를 하지 말고 적어주세요.)\n",
        "\n",
        "- 심층신경망\n",
        "\n",
        "1. 음성과 글자의 경우 길이가 가변적이고 말의 문맥을 파악해야 한다는 점에서 CNN 보다는 순환신경망이 더 적합하다.\n",
        " \n",
        "O\n",
        " \n",
        "X\n",
        "\n",
        "- O"
      ]
    },
    {
      "cell_type": "markdown",
      "metadata": {
        "id": "8bMdaWsiBNIU",
        "colab_type": "text"
      },
      "source": [
        "0. 1957년, 프랭크 로젠블랫은 맥컬록-피츠 모델(MCP)을 기반으로 _ _ _ _ _ _ _ _ _ _ 개념을 발표했다. (영문 소문자로 적어주세요.)\n",
        "\n",
        "1. 경사하강법에서 가중치 조정을 위한 하이퍼파라미터로써 어떻게 설정하느냐에 따라 학습 시간이 달라지는 이것은 무엇인가? _ _ _\n",
        "\n",
        "2. 단층 퍼셉트론으로 AND, OR, XOR 문제를 모두 해결 할 수 있다.\n",
        " \n",
        "O\n",
        " \n",
        "X"
      ]
    }
  ]
}