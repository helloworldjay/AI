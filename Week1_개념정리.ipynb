{
  "nbformat": 4,
  "nbformat_minor": 0,
  "metadata": {
    "colab": {
      "name": "Untitled3.ipynb",
      "provenance": [],
      "authorship_tag": "ABX9TyMFmMbkfpND4V6CCJ0WYsTg",
      "include_colab_link": true
    },
    "kernelspec": {
      "name": "python3",
      "display_name": "Python 3"
    }
  },
  "cells": [
    {
      "cell_type": "markdown",
      "metadata": {
        "id": "view-in-github",
        "colab_type": "text"
      },
      "source": [
        "<a href=\"https://colab.research.google.com/github/helloworldjay/AI_Precourse/blob/master/Week1_%EA%B0%9C%EB%85%90%EC%A0%95%EB%A6%AC.ipynb\" target=\"_parent\"><img src=\"https://colab.research.google.com/assets/colab-badge.svg\" alt=\"Open In Colab\"/></a>"
      ]
    },
    {
      "cell_type": "code",
      "metadata": {
        "id": "6ujWHriQ4jcl",
        "colab_type": "code",
        "colab": {}
      },
      "source": [
        "0. 다음 빈칸에 알맞은 단어를 적어주세요. 초기의 체스 프로그램과 같이 프로그래머가 예상되는 변수들을 직접 하드코딩하는 방식을 _ _ _ _ 인공지능이라고 부른다. 정의가 잘 되어 있고 논리적인 문제를 해결할 수 있지만 음성이나 이미지, 번역등의 더욱 복잡하고 모호한 문제들을 다루기에 적절하지 않다.\n",
        "- 기호주의\n",
        "1. 인공지능 발전의 역사에 있어 한계점으로 작용했던 요소 중 가장 큰 요소는 하드웨어의 성능이다\n",
        " \n",
        "- O\n",
        " \n",
        "X\n",
        "\n",
        "2. 머신러닝은 하드웨어 성능의 향상과 관련이 있지 통계학(확률론)에는 관련이 깊지 않다.\n",
        " \n",
        "O\n",
        " \n",
        "- X"
      ],
      "execution_count": 0,
      "outputs": []
    }
  ]
}