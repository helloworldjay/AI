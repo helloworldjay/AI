{
  "nbformat": 4,
  "nbformat_minor": 0,
  "metadata": {
    "colab": {
      "name": "Untitled3.ipynb",
      "provenance": [],
      "authorship_tag": "ABX9TyOpNGKOP+b/PI/HudG+pYXH",
      "include_colab_link": true
    },
    "kernelspec": {
      "name": "python3",
      "display_name": "Python 3"
    }
  },
  "cells": [
    {
      "cell_type": "markdown",
      "metadata": {
        "id": "view-in-github",
        "colab_type": "text"
      },
      "source": [
        "<a href=\"https://colab.research.google.com/github/helloworldjay/AI_Precourse/blob/master/Week1_%EA%B0%9C%EB%85%90%EC%A0%95%EB%A6%AC.ipynb\" target=\"_parent\"><img src=\"https://colab.research.google.com/assets/colab-badge.svg\" alt=\"Open In Colab\"/></a>"
      ]
    },
    {
      "cell_type": "markdown",
      "metadata": {
        "id": "_8DWYgbW9UV9",
        "colab_type": "text"
      },
      "source": [
        "0. 다음 빈칸에 알맞은 단어를 적어주세요. 초기의 체스 프로그램과 같이 프로그래머가 예상되는 변수들을 직접 하드코딩하는 방식을 _ _ _ _ 인공지능이라고 부른다. 정의가 잘 되어 있고 논리적인 문제를 해결할 수 있지만 음성이나 이미지, 번역등의 더욱 복잡하고 모호한 문제들을 다루기에 적절하지 않다.\n",
        "- 기호주의\n",
        "1. 인공지능 발전의 역사에 있어 한계점으로 작용했던 요소 중 가장 큰 요소는 하드웨어의 성능이다\n",
        " \n",
        "- O\n",
        " \n",
        "X\n",
        "\n",
        "2. 머신러닝은 하드웨어 성능의 향상과 관련이 있지 통계학(확률론)에는 관련이 깊지 않다.\n",
        " \n",
        "O\n",
        " \n",
        "- X"
      ]
    },
    {
      "cell_type": "markdown",
      "metadata": {
        "id": "QuPzCsnn5u4j",
        "colab_type": "text"
      },
      "source": [
        "0. _ _ _ _ _은 인간의 뇌를 모델로 하는 컴퓨터 시스템이다. 의학, 개인화된 맞춤형 서비스, 인간과의 상호작용 등 다양한 목적을 가지고 개발되고 있다.\n",
        "- 인지 컴퓨팅\n",
        "\n",
        "1. 인지컴퓨팅으로 인해 개인 맞춤형 의료 치료가 가능한 시대가 열렸다\n",
        " \n",
        "- O\n",
        " \n",
        "X\n",
        "\n",
        "2. EBS 다큐프라임의 4차인간 3부 - 어떻게 기계와 공존할 것인가를 시청하셨나요?\n",
        " \n",
        "네!"
      ]
    },
    {
      "cell_type": "markdown",
      "metadata": {
        "id": "CBfOCfVq6UJh",
        "colab_type": "text"
      },
      "source": [
        "0. 산업혁명기 등장한 오토마타의 의의는 자동 인형에 생명체의 구조와 원리를 적용한 것이다.\n",
        " \n",
        "- O\n",
        " \n",
        "X\n",
        "\n",
        "1. 인공지능의 선구자중 한 사람으로 에니그마 해독에도 큰 기여 했으며 기계가 인간과 얼마나 비슷하게 대화할 수 있는지를 기준으로 기계에 지능이 있는지를 판별하고자 하는 테스트를 제안한 이 사람의 이름은 무엇인가? (띄어쓰기 없이 작성해주세요)\n",
        "- 엘런 튜링\n",
        "\n",
        "2. 머신러닝과 고전 프로그래밍의 차이는 인간이 아닌 컴퓨터가 정의한 규칙을 통해 해답을 산출한다는 것에 차이가 있다.\n",
        " \n",
        "- O\n",
        " \n",
        "X"
      ]
    },
    {
      "cell_type": "markdown",
      "metadata": {
        "id": "x1tvcQiE7mkI",
        "colab_type": "text"
      },
      "source": [
        "0. 인공지능을 학습시키는 방법으로 딥러닝과 머신러닝으로 나누어 진다.\n",
        " \n",
        "O\n",
        " \n",
        "- X\n",
        "\n",
        "1. 머신러닝의 맥락에서 _ _ 이란 더 나은 표현을 자동으로 찾아내는 과정이라고 설명할 수 있다.\n",
        "- 학습\n",
        "\n",
        "2. 머신러닝의 한 방법으로 신경망의 계층을 다양한 방식으로 연속되게 구조화 한 방식은 무엇인가?\n",
        "- 딥러닝"
      ]
    }
  ]
}