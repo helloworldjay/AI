{
  "nbformat": 4,
  "nbformat_minor": 0,
  "metadata": {
    "colab": {
      "name": "week1.ipynb",
      "provenance": [],
      "collapsed_sections": [],
      "authorship_tag": "ABX9TyN/O5aRS93m8RYnx1lVbiNC",
      "include_colab_link": true
    },
    "kernelspec": {
      "name": "python3",
      "display_name": "Python 3"
    }
  },
  "cells": [
    {
      "cell_type": "markdown",
      "metadata": {
        "id": "view-in-github",
        "colab_type": "text"
      },
      "source": [
        "<a href=\"https://colab.research.google.com/github/helloworldjay/AI_Precourse/blob/master/week1.ipynb\" target=\"_parent\"><img src=\"https://colab.research.google.com/assets/colab-badge.svg\" alt=\"Open In Colab\"/></a>"
      ]
    },
    {
      "cell_type": "markdown",
      "metadata": {
        "id": "SXaQNLWmcvG8",
        "colab_type": "text"
      },
      "source": [
        "1. 언어\n",
        "\n",
        "   - 구글 번역기, 네이버 파파고\n",
        "\n",
        "    하나의 언어를 다른 언어로 번역해주는데 인공지능이 사용되고 있다. 경험상 한국어 -> 영어 변환보다 영어 -> 독일어처럼 어근이나 어순이 비슷한 언어의 변환의 정확도가 훨씬 높았다. 한국어와 어순이 비슷한 일본어와 서로 변환해주는 프로그램을 만들어보고 싶다."
      ]
    },
    {
      "cell_type": "markdown",
      "metadata": {
        "id": "MnozlBx8di0D",
        "colab_type": "text"
      },
      "source": [
        "2. 음성\n",
        "\n",
        " - LG 휘센 씽큐  에어컨\n",
        "\n",
        "     사용자의 언어 뿐만 아니라 패턴도 학습한다. 사투리 역시 학습 가능하다."
      ]
    },
    {
      "cell_type": "markdown",
      "metadata": {
        "id": "NlBDI2KFdtRo",
        "colab_type": "text"
      },
      "source": [
        "3. 이미지\n",
        " - 중국 cctv 사람 인식\n",
        "\n",
        "     중국은 현재 세계에서 가장 많은 cctv를 설치한 나라이다. 누구라도 3초안에 90%의 확률로 인식하는 것이 목표이다."
      ]
    },
    {
      "cell_type": "markdown",
      "metadata": {
        "id": "bhje8mGwduWz",
        "colab_type": "text"
      },
      "source": [
        "4. 자율주행\n",
        "\n",
        "    - bmw 모빌아이\n",
        "\n",
        "    인텔과 협력하여 실제 도로에서 운용가능한 자율주행을 개발하였다."
      ]
    }
  ]
}